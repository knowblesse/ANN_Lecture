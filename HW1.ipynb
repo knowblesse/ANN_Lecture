{
 "cells": [
  {
   "cell_type": "markdown",
   "metadata": {},
   "source": [
    "# [Hw01] Classification of the Iris data using the Adaline\n",
    "Jeong Ji Hoon 2016010980\n",
    "\n",
    "## Importing Packages and Iris Dataset"
   ]
  },
  {
   "cell_type": "markdown",
   "metadata": {},
   "source": []
  },
  {
   "cell_type": "code",
   "execution_count": 2,
   "metadata": {},
   "outputs": [],
   "source": [
    "%matplotlib inline"
   ]
  },
  {
   "cell_type": "code",
   "execution_count": 3,
   "metadata": {},
   "outputs": [
    {
     "name": "stdout",
     "output_type": "stream",
     "text": [
      "[System] Data import success\n"
     ]
    }
   ],
   "source": [
    "import numpy as np\n",
    "import pandas as pd\n",
    "import matplotlib.pyplot as plt\n",
    "from matplotlib.colors import ListedColormap\n",
    "from sklearn.model_selection import train_test_split\n",
    "#%matplotlib inline\n",
    "#Constants for Data Import\n",
    "NUM_FEATURE = 4 # Number of Features in each sample\n",
    "NUM_SAMPLE_PER_CLASS = 50\n",
    "NUM_CLASS = 3\n",
    "NUM_TEST_SAMPLE_PER_CLASS = 10\n",
    "\n",
    "#Dataset Download\n",
    "df = pd.read_csv('https://archive.ics.uci.edu/ml/machine-learning-databases/iris/iris.data',header=None)\n",
    "dataset = df.values\n",
    "\n",
    "#Iris name to integer codes\n",
    "iris_names = np.unique(dataset[:,NUM_FEATURE])\n",
    "for i,name in enumerate(iris_names):\n",
    "    dataset[np.where(dataset[:,NUM_FEATURE] == name),NUM_FEATURE] = i\n",
    "\n",
    "X = dataset[:,:NUM_FEATURE].astype(float)\n",
    "# Using Only Two Features (Sepal length & Petal Length)\n",
    "X = X[:,[0,2]]\n",
    "y = dataset[:,NUM_FEATURE].astype(int)\n",
    "\n",
    "print('[System] Data import success')"
   ]
  },
  {
   "cell_type": "markdown",
   "metadata": {},
   "source": [
    "## Defining Classes\n",
    "### 1. Original Adaline\n",
    "- original Adaline Class from the Book.\n",
    "- only difference : no predict function. instead, predict_value function exist.(raw input values just before the threshold function\n",
    "\n",
    "### 2. Multi Class Adaline\n",
    "1. generate 3 Adaline classifer ( C1 vs else, C2 vs else, C3 vs else )\n",
    "2. feed appropriate training sample data\n",
    "3. feed test data and compare net input values\n",
    "4. since we trained +1 for C1/C2/C3 and -1 for else, which ever has the maximum net input value is the winner. (=> no rejection)"
   ]
  },
  {
   "cell_type": "code",
   "execution_count": null,
   "metadata": {},
   "outputs": [
    {
     "ename": "SyntaxError",
     "evalue": "unexpected EOF while parsing (<ipython-input-2-d4f231df5527>, line 12)",
     "traceback": [
      "\u001b[1;36m  File \u001b[1;32m\"<ipython-input-2-d4f231df5527>\"\u001b[1;36m, line \u001b[1;32m12\u001b[0m\n\u001b[1;33m    \u001b[0m\n\u001b[1;37m    ^\u001b[0m\n\u001b[1;31mSyntaxError\u001b[0m\u001b[1;31m:\u001b[0m unexpected EOF while parsing\n"
     ],
     "output_type": "error"
    }
   ],
   "source": [
    "\n",
    "class AdalineClassifier(object):\n",
    "    \"\"\"ADAptive LInear NEuron classifier\"\"\"\n",
    "\n",
    "    def __init__(self, eta=0.01, n_iter=50, random_state = 1):  # Constructor\n",
    "        self.eta = eta\n",
    "        self.n_iter = n_iter\n",
    "        self.random_state = random_state\n",
    "\n",
    "    def fit(self, X, y):  # Training\n",
    "        # Dataset details\n",
    "        self.numFeature = X.shape[1]\n",
    "\n",
    "        # Weight Set\n",
    "        rgen = np.random.RandomState(self.random_state)\n",
    "        self.w_ = rgen.normal(loc=0.0, scale=0.01, size= 1 + self.numFeature)\n",
    "        self.cost_ = []\n",
    "\n",
    "        for i in range(self.n_iter):\n",
    "            net_input = self.net_input(X)\n",
    "            output = net_input\n",
    "            errors = y - output\n",
    "            self.w_[1:] += self.eta * X.T.dot(errors)\n",
    "            self.w_[0] += self.eta * errors.sum()\n",
    "            cost = (errors**2).sum() / 2.0\n",
    "            self.cost_.append(cost)\n",
    "        return self\n",
    "\n",
    "    def predict_value(self, X):\n",
    "        # Changed to quantitatively Score multiple Adaline\n",
    "        return np.dot(X, self.w_[1:]) + self.w_[0]\n",
    "\n",
    "    def net_input(self,X):\n",
    "        return np.dot(X, self.w_[1:]) + self.w_[0]\n",
    "\n",
    "\n",
    "\n",
    "\n",
    "class Multi_AdalineClassifier(object):\n",
    "    def __init__(self, eta=0.01, n_iter=50, random_state = 1): # make 3 adaline classifiers.\n",
    "        self.clf = [AdalineClassifier(eta = eta, n_iter = n_iter, random_state=random_state),\n",
    "                    AdalineClassifier(eta = eta, n_iter = n_iter, random_state=random_state),\n",
    "                    AdalineClassifier(eta = eta, n_iter = n_iter, random_state=random_state)]\n",
    "\n",
    "    def fit(self, X, targetY): # train each classifiers with appropriate samples\n",
    "        self.numClass = targetY.shape[1]\n",
    "        for c in range(self.numClass):\n",
    "            self.clf[c].fit(X, targetY[:, c])\n",
    "\n",
    "    def predict(self, X):\n",
    "        self.output = np.zeros([X.shape[0],self.numClass])\n",
    "        self.result = np.zeros([X.shape[0]])\n",
    "        for c in range(self.numClass):\n",
    "            self.output[:,c] = self.clf[c].predict_value(X)\n",
    "        for s in range(X.shape[0]):\n",
    "            self.result[s] = np.where(self.output[s,:] == np.amax(self.output[s,:]))[0]\n",
    "        return self.result\n",
    "    \n",
    "print('[System] Class Creation success')\n",
    "            \n",
    "\n",
    "        "
   ]
  },
  {
   "cell_type": "markdown",
   "metadata": {},
   "source": [
    "## Defining Functions"
   ]
  },
  {
   "cell_type": "markdown",
   "metadata": {},
   "source": [
    "- ### plot decision regions - from the book"
   ]
  },
  {
   "cell_type": "code",
   "execution_count": null,
   "metadata": {},
   "outputs": [],
   "source": [
    "def plot_decision_regions(X, y, classifier, test_idx=None, resolution=0.02):\n",
    "    # setup marker generator and color map\n",
    "    markers = ('s', 'x', 'o', '^', 'v')\n",
    "    colors = ('red', 'blue', 'lightgreen', 'gray', 'cyan')\n",
    "    cmap = ListedColormap(colors[:len(np.unique(y))])\n",
    "    # plot the decision surface\n",
    "    x1_min, x1_max = X[:, 0].min() - 1, X[:, 0].max() + 1\n",
    "    x2_min, x2_max = X[:, 1].min() - 1, X[:, 1].max() + 1\n",
    "    xx1, xx2 = np.meshgrid(np.arange(x1_min, x1_max, resolution),\n",
    "                           np.arange(x2_min, x2_max, resolution))\n",
    "    Z = classifier.predict(np.array([xx1.ravel(), xx2.ravel()]).T)\n",
    "    Z = Z.reshape(xx1.shape)\n",
    "    plt.contourf(xx1, xx2, Z, alpha=0.3, cmap=cmap)\n",
    "    plt.xlim(xx1.min(), xx1.max())\n",
    "    plt.ylim(xx2.min(), xx2.max())\n",
    "    for idx, cl in enumerate(np.unique(y)):\n",
    "        plt.scatter(x=X[y == cl, 0],\n",
    "                    y=X[y == cl, 1],\n",
    "                    alpha=0.8,\n",
    "                    c=colors[idx],\n",
    "                    marker=markers[idx],\n",
    "                    label=cl,\n",
    "                    edgecolor='black')\n",
    "    # highlight test samples\n",
    "    if test_idx:\n",
    "        # plot all samples\n",
    "        X_test, y_test = X[test_idx, :], y[test_idx]\n",
    "        plt.scatter(X_test[:, 0],\n",
    "                    X_test[:, 1],\n",
    "                    c='',\n",
    "                    edgecolor='black',\n",
    "                    alpha=1.0,\n",
    "                    linewidth=1,\n",
    "                    marker='o',\n",
    "                    s=100,\n",
    "                    label='test set')"
   ]
  },
  {
   "cell_type": "markdown",
   "metadata": {},
   "source": [
    "ssss"
   ]
  },
  {
   "cell_type": "code",
   "execution_count": null,
   "metadata": {},
   "outputs": [],
   "source": [
    "\n",
    "        \n",
    "targetY = -1 * np.ones([y.size, np.unique(y).size])\n",
    "for s, c in enumerate(y):\n",
    "    targetY[s, c] = 1\n",
    "    "
   ]
  }
 ],
 "metadata": {
  "kernelspec": {
   "display_name": "Python 2",
   "language": "python",
   "name": "python2"
  },
  "language_info": {
   "codemirror_mode": {
    "name": "ipython",
    "version": 2
   },
   "file_extension": ".py",
   "mimetype": "text/x-python",
   "name": "python",
   "nbconvert_exporter": "python",
   "pygments_lexer": "ipython2",
   "version": "2.7.6"
  }
 },
 "nbformat": 4,
 "nbformat_minor": 0
}
